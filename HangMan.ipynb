{
 "cells": [
  {
   "cell_type": "code",
   "execution_count": null,
   "metadata": {},
   "outputs": [],
   "source": [
    "import random\n",
    "\n",
    "wordlist=['zebra', 'money', 'python', 'science']\n",
    "\n",
    "def pickaword(list):\n",
    "    num = random.randint(0,len(wordlist)-1)\n",
    "    return list[num]\n",
    "\n",
    "def outputlist(guessedlist, letterlist):\n",
    "    templist=[]\n",
    "    for i in letterlist:\n",
    "        if i in guessedlist:\n",
    "             templist.append(i)\n",
    "        else: templist.append('__ ')    \n",
    "    return templist\n",
    "\n",
    "\n",
    "word=pickaword(wordlist)\n",
    "\n",
    "print('Try to guess the letters in the %i-letter word.' % (len(word))\n",
    "letterlist=[word[i] for i in range(len(word))]\n",
    "\n",
    "out=outputlist([], letterlist)\n",
    "print(''.join(out))\n",
    "\n",
    "def inputaletter():\n",
    "    check=False\n",
    "    while(check==False):\n",
    "        letter=input('\\nPlease input a letter: ')\n",
    "        check=len(letter)==1 and letter.isalpha() and True#check if used \n",
    "    return(letter)\n",
    "\n",
    "guessedit=False\n",
    "guessedset=set()\n",
    "while(guessedit==False):\n",
    "    newletter=inputaletter()\n",
    "    guessedset.add(newletter)\n",
    "    out=outputlist(guessedset,letterlist)\n",
    "    print(''.join(out))\n",
    "    if out==letterlist:\n",
    "        guessedit=True\n",
    "\n",
    "print('\\nYou guessed it!', letterlist) \n",
    "    \n",
    "\n",
    "\n"
   ]
  },
  {
   "cell_type": "code",
   "execution_count": null,
   "metadata": {},
   "outputs": [],
   "source": []
  },
  {
   "cell_type": "code",
   "execution_count": null,
   "metadata": {},
   "outputs": [],
   "source": []
  }
 ],
 "metadata": {
  "kernelspec": {
   "display_name": "Python 3",
   "language": "python",
   "name": "python3"
  },
  "language_info": {
   "codemirror_mode": {
    "name": "ipython",
    "version": 3
   },
   "file_extension": ".py",
   "mimetype": "text/x-python",
   "name": "python",
   "nbconvert_exporter": "python",
   "pygments_lexer": "ipython3",
   "version": "3.7.1"
  }
 },
 "nbformat": 4,
 "nbformat_minor": 2
}

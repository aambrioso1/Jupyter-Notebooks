{
 "cells": [
  {
   "cell_type": "markdown",
   "metadata": {},
   "source": [
    "List of math and logical operators.\n",
    "Break up the game into pieces."
   ]
  },
  {
   "cell_type": "markdown",
   "metadata": {},
   "source": [
    "https://docs.python.org/3/library/stdtypes.html\n"
   ]
  },
  {
   "cell_type": "code",
   "execution_count": null,
   "metadata": {},
   "outputs": [],
   "source": [
    "import random\n",
    "\n",
    "def playgen():\n",
    "        rand=random.randint(0,2)\n",
    "        if rand==0: return 'r'\n",
    "        elif rand==1: return 'p'\n",
    "        elif rand==2: return 's'\n",
    "\n",
    "\n",
    "\n",
    "play=playgen()\n",
    "\n",
    "print(play)\n"
   ]
  },
  {
   "cell_type": "code",
   "execution_count": null,
   "metadata": {},
   "outputs": [],
   "source": [
    "#The classic game of rock-paper-scissors by Alex Ambrioso @2019\n",
    "\n",
    "import random\n",
    "\n",
    "plays=['p','r','s']\n",
    "checked=False\n",
    "go=True\n",
    "\n",
    "def playgen():\n",
    "        rand=random.randint(0,2)\n",
    "        if rand==0: return 'r'\n",
    "        elif rand==1: return 'p'\n",
    "        elif rand==2: return 's'\n",
    "\n",
    "print('Follow the instructions to play the classic game of rock-paper-scissor against the computer\\n\\n')\n",
    "\n",
    "while(go):\n",
    "        while(not checked):\n",
    "                play=input('\\nWould you like to play rock(r), paper(p), or scissors(s)?\\n\\n')\n",
    "                if play in plays:\n",
    "                        checked=True\n",
    "                        print('\\nYou played %s.\\n' % play)\n",
    "                else: print('\\n%s is not a valid play.\\n' % play)\n",
    "                \n",
    "        cplay=playgen()\n",
    "        \n",
    "        print('The computer played %s\\n.' % cplay)\n",
    "        \n",
    "        if play==cplay: print('It\\'s a tie\\n')\n",
    "        elif (play=='r' and cplay=='s'):\n",
    "                print('Rock smashes scissors so you win!\\n')\n",
    "        elif play=='r' and cplay=='p':\n",
    "                print('Paper covers rock so the computer wins!\\n')\n",
    "        elif play=='s' and cplay=='r':\n",
    "                print('Rock smashes scissors so the computer wins!\\n')\n",
    "        elif play=='p' and cplay=='r':\n",
    "                print('Paper covers rock so you win!\\n')\n",
    "        elif play=='s' and cplay=='p':\n",
    "                print('Scissors cut paper so you win!\\n')\n",
    "        elif play=='p' and cplay=='s':\n",
    "                print('Scissors cut paper so the computer wins!\\n')\n",
    "        \n",
    "        again=input('Would you like to play again? Yes (Y) or No (N).\\n\\n\\n')\n",
    "        checked=False\n",
    "        if again in ['N','No','n','no']:\n",
    "                go = False\n",
    "print('\\n\\nThanks for playing!\\n')\n",
    "        \n"
   ]
  },
  {
   "cell_type": "code",
   "execution_count": 7,
   "metadata": {},
   "outputs": [
    {
     "name": "stdout",
     "output_type": "stream",
     "text": [
      "s\n"
     ]
    }
   ],
   "source": [
    "import random\n",
    "\n",
    "def playgen():\n",
    "        rand=random.randint(0,2)\n",
    "        if rand==0: return 'r'\n",
    "        elif rand==1: return 'p'\n",
    "        elif rand==2: return 's'\n",
    "print(playgen())\n",
    "\n",
    "\n",
    "\n"
   ]
  },
  {
   "cell_type": "code",
   "execution_count": 9,
   "metadata": {},
   "outputs": [
    {
     "name": "stdout",
     "output_type": "stream",
     "text": [
      "0 4\n",
      "1 4\n",
      "2 0\n",
      "3 5\n",
      "4 4\n",
      "5 1\n",
      "6 5\n",
      "7 6\n",
      "8 5\n",
      "9 1\n"
     ]
    }
   ],
   "source": [
    "#import random\n",
    "\n",
    "#def die():\n",
    "    #return random.randint(0,6)\n",
    "\n",
    "for i in range(0,10):\n",
    "    # print(i,die())\n",
    "    print(random.randint(0,6))\n",
    "\n"
   ]
  },
  {
   "cell_type": "code",
   "execution_count": null,
   "metadata": {},
   "outputs": [],
   "source": []
  }
 ],
 "metadata": {
  "kernelspec": {
   "display_name": "Python 3",
   "language": "python",
   "name": "python3"
  },
  "language_info": {
   "codemirror_mode": {
    "name": "ipython",
    "version": 3
   },
   "file_extension": ".py",
   "mimetype": "text/x-python",
   "name": "python",
   "nbconvert_exporter": "python",
   "pygments_lexer": "ipython3",
   "version": "3.7.1"
  }
 },
 "nbformat": 4,
 "nbformat_minor": 2
}

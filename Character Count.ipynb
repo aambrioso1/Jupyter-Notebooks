{
 "cells": [
  {
   "cell_type": "code",
   "execution_count": 4,
   "metadata": {},
   "outputs": [
    {
     "name": "stdout",
     "output_type": "stream",
     "text": [
      "Please type in some text.\n",
      "jjjj....,,,jjjaabccc\n",
      "\n",
      "\n",
      "The number of j's is 7\n",
      "The number of .'s is 4\n",
      "The number of ,'s is 3\n",
      "The number of a's is 2\n",
      "The number of b's is 1\n",
      "The number of c's is 3\n"
     ]
    }
   ],
   "source": [
    "#Input a string, create a list of the different characters in the string, then count how many of each character\n",
    "\n",
    "def CountChar(chr,list):\n",
    "#This function inputs an item and a list and counts how many of the item are in the list.\n",
    "    count=0\n",
    "    for i in list:\n",
    "        if i==chr:\n",
    "            count+=1\n",
    "    return count\n",
    "\n",
    "def RemoveChar(char, list):\n",
    "#This function removed the item, char, from the list.\n",
    "    while(char in list):\n",
    "         list.remove(char)\n",
    "    return(list)\n",
    " \n",
    "#The lists used in the program are initialized as empty lists.\n",
    "countlist=[]\n",
    "list=[]\n",
    "templist=[]\n",
    "charlist=[]\n",
    "\n",
    "text = input('Please type in some text.\\n')\n",
    "print('\\n')\n",
    "#This loop creates two lists of all the characters in the users text.\n",
    "for i in range(len(text)):\n",
    "    list.append(text[i])\n",
    "    templist.append(text[i])\n",
    "\n",
    "#This loops removes all the repeated characters in templist and creates a list of how many of each character were in the user list.\n",
    "while(len(templist)>0):\n",
    "    countlist.append(CountChar(templist[0], list))\n",
    "    k=templist[0]\n",
    "    RemoveChar(k,templist)\n",
    "    charlist+=k\n",
    "\n",
    "#This loop prints out the count for each character.\n",
    "for i in range(len(charlist)):\n",
    "    print('The number of %s\\'s is %i' % (charlist[i], countlist[i]))\n"
   ]
  },
  {
   "cell_type": "code",
   "execution_count": null,
   "metadata": {},
   "outputs": [],
   "source": []
  },
  {
   "cell_type": "code",
   "execution_count": null,
   "metadata": {},
   "outputs": [],
   "source": []
  }
 ],
 "metadata": {
  "kernelspec": {
   "display_name": "Python 3",
   "language": "python",
   "name": "python3"
  },
  "language_info": {
   "codemirror_mode": {
    "name": "ipython",
    "version": 3
   },
   "file_extension": ".py",
   "mimetype": "text/x-python",
   "name": "python",
   "nbconvert_exporter": "python",
   "pygments_lexer": "ipython3",
   "version": "3.7.1"
  }
 },
 "nbformat": 4,
 "nbformat_minor": 2
}

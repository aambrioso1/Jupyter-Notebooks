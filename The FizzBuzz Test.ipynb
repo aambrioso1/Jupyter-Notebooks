{
 "cells": [
  {
   "cell_type": "markdown",
   "metadata": {},
   "source": [
    "The FizzBuzz Test\n",
    "Write a program that prints the numbers from 1 to 100 except multiples for three print Fizz, for multiples of 5 print Buzz, and for mutiples of 15 print FizzBuzz instead of the number."
   ]
  },
  {
   "cell_type": "code",
   "execution_count": 6,
   "metadata": {},
   "outputs": [
    {
     "name": "stdout",
     "output_type": "stream",
     "text": [
      "1\n",
      "2\n",
      "3\n",
      "4\n",
      "5\n",
      "6\n",
      "7\n",
      "8\n",
      "9\n",
      "10\n"
     ]
    },
    {
     "data": {
      "text/plain": [
       "[1, 2, 3, 4, 5, 6, 7, 8, 9, 10]"
      ]
     },
     "execution_count": 6,
     "metadata": {},
     "output_type": "execute_result"
    }
   ],
   "source": [
    "#The for loop and range command\n",
    "for i in range(1,11):\n",
    "    print(i)\n",
    "    \n",
    "#Note the in Python 3.* the range() function is its own type.\n",
    "type(range(1,11))\n",
    "\n",
    "#To create a list from range use the list() command\n",
    "list(range(1,11))\n",
    "\n"
   ]
  },
  {
   "cell_type": "code",
   "execution_count": 10,
   "metadata": {},
   "outputs": [
    {
     "name": "stdout",
     "output_type": "stream",
     "text": [
      "The remainder when 18 is divided by 4 is: 2\n"
     ]
    }
   ],
   "source": [
    "#The remainder operation x % y computes the remainder when x is divided by y\n",
    "i=18%4\n",
    "\n",
    "print('The remainder when 18 is divided by 4 is:',i)"
   ]
  },
  {
   "cell_type": "code",
   "execution_count": 11,
   "metadata": {},
   "outputs": [
    {
     "name": "stdout",
     "output_type": "stream",
     "text": [
      "True False False True True False\n"
     ]
    }
   ],
   "source": [
    "#Comparisons\n",
    "print(3<4, 3<=2, 3>4, 3>=3, 4==4, 4!=4)"
   ]
  },
  {
   "cell_type": "code",
   "execution_count": null,
   "metadata": {},
   "outputs": [],
   "source": [
    "#Conditionals if, elif, else"
   ]
  }
 ],
 "metadata": {
  "kernelspec": {
   "display_name": "Python 3",
   "language": "python",
   "name": "python3"
  },
  "language_info": {
   "codemirror_mode": {
    "name": "ipython",
    "version": 3
   },
   "file_extension": ".py",
   "mimetype": "text/x-python",
   "name": "python",
   "nbconvert_exporter": "python",
   "pygments_lexer": "ipython3",
   "version": "3.7.1"
  }
 },
 "nbformat": 4,
 "nbformat_minor": 2
}
